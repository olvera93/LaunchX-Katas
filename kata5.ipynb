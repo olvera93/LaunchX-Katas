{
 "cells": [
  {
   "cell_type": "markdown",
   "metadata": {},
   "source": [
    "# Kata 5"
   ]
  },
  {
   "cell_type": "markdown",
   "metadata": {},
   "source": [
    "### Ejercicio 1: Utilizar operadores aritméticos"
   ]
  },
  {
   "cell_type": "code",
   "execution_count": 7,
   "metadata": {},
   "outputs": [],
   "source": [
    "# Crear variables para almacenar las dos distancias\n",
    "# Asegurarse de quitar las comas\n",
    "\n",
    "first_planet = 149_597_871\n",
    "second_planet = 778_547_200"
   ]
  },
  {
   "cell_type": "code",
   "execution_count": 8,
   "metadata": {},
   "outputs": [
    {
     "name": "stdout",
     "output_type": "stream",
     "text": [
      "Distance 628949329 km\n",
      "Distance 390577533.309 miles\n"
     ]
    }
   ],
   "source": [
    "# Calcular la distancia entre los dos planetas\n",
    "\n",
    "distance = second_planet - first_planet\n",
    "print(f\"Distance {distance} km\" )\n",
    "\n",
    "distance2 = distance * 0.621\n",
    "print(f\"Distance {distance2} miles\")\n"
   ]
  },
  {
   "cell_type": "markdown",
   "metadata": {},
   "source": [
    "### Ejercicio 2: Convertir cadenas en números"
   ]
  },
  {
   "cell_type": "code",
   "execution_count": 9,
   "metadata": {},
   "outputs": [],
   "source": [
    "# Almacenar las entradas del usuario\n",
    "\n",
    "first_planet = input('Introduzca la distancia del sol para el primer planeta en KM')\n",
    "second_planet = input('Introduzca la distancia desde el sol para el segundo planeta en KM')"
   ]
  },
  {
   "cell_type": "code",
   "execution_count": 10,
   "metadata": {},
   "outputs": [],
   "source": [
    "# Convertir las entradas a enteros\n",
    "\n",
    "first_planet = int(first_planet)\n",
    "second_planet = int(second_planet)"
   ]
  },
  {
   "cell_type": "code",
   "execution_count": 11,
   "metadata": {},
   "outputs": [
    {
     "name": "stdout",
     "output_type": "stream",
     "text": [
      "Distance 748 km\n",
      "Distance 464.508 miles\n"
     ]
    }
   ],
   "source": [
    "# Calcular la distancia entre los dos planetas\n",
    "distance = second_planet - first_planet\n",
    "print(f\"Distance {distance} km\" )\n",
    "\n",
    "# Convertir la distancia a millas\n",
    "distance2 = distance * 0.621\n",
    "print(f\"Distance {distance2} miles\")"
   ]
  }
 ],
 "metadata": {
  "interpreter": {
   "hash": "1edaa59eee8033bb34e34b1013d93c361eb58cd5ca155f82699a2cb12ee4a466"
  },
  "kernelspec": {
   "display_name": "Python 3.10.2 64-bit (windows store)",
   "language": "python",
   "name": "python3"
  },
  "language_info": {
   "codemirror_mode": {
    "name": "ipython",
    "version": 3
   },
   "file_extension": ".py",
   "mimetype": "text/x-python",
   "name": "python",
   "nbconvert_exporter": "python",
   "pygments_lexer": "ipython3",
   "version": "3.10.2"
  },
  "orig_nbformat": 4
 },
 "nbformat": 4,
 "nbformat_minor": 2
}
