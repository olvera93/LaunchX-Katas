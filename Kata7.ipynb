{
 "cells": [
  {
   "cell_type": "markdown",
   "metadata": {},
   "source": [
    "# Kata 7"
   ]
  },
  {
   "cell_type": "markdown",
   "metadata": {},
   "source": [
    "### Ejercicio 1: Creación de un bucle \"while\""
   ]
  },
  {
   "cell_type": "code",
   "execution_count": 1,
   "metadata": {},
   "outputs": [],
   "source": [
    "# Declara dos variables\n",
    "new_planet = ''\n",
    "planets = []"
   ]
  },
  {
   "cell_type": "code",
   "execution_count": 11,
   "metadata": {},
   "outputs": [
    {
     "name": "stdout",
     "output_type": "stream",
     "text": [
      "\n",
      "\n",
      "Here is a list of the planets:\n",
      "Mart\n",
      "Earth\n",
      "Jupyter\n",
      "hjfg\n",
      "fgh\n",
      "fgyh\n",
      "45\n",
      "dgf\n",
      "er\n",
      "egr\n",
      "ger\n",
      "ger\n",
      "gre\n",
      "ge\n",
      "g\n",
      "g\n",
      "reg\n",
      "erg\n",
      "re\n",
      "gre\n",
      "gre\n",
      "gr\n",
      "g\n",
      "reg\n",
      "erg\n",
      "er\n",
      "ger\n",
      "gre\n",
      "g\n",
      "reg\n",
      "re\n",
      "re\n",
      "gre\n",
      "g\n",
      "reg\n",
      "re\n",
      "re\n",
      "gr\n",
      "g\n",
      "reg\n",
      "re\n",
      "re\n",
      "g\n",
      "g\n",
      "reg\n",
      "er\n",
      "er\n",
      "Eart\n",
      "sdfds\n",
      "rewrw\n",
      "done\n",
      "\n",
      "\n"
     ]
    }
   ],
   "source": [
    "# Escribe el ciclo while solicitado\n",
    "\n",
    "while new_planet.lower() != 'done':\n",
    "    if new_planet:\n",
    "        planets.append(new_planet)\n",
    "    new_planet = input('Enter a planet: ')\n",
    "\n",
    "# Imprime el resultado\n",
    "print('\\n')\n",
    "print('Here is a list of the planets:')\n",
    "for planet in planets:\n",
    "    print(planet)\n",
    "print('\\n')\n"
   ]
  },
  {
   "cell_type": "markdown",
   "metadata": {},
   "source": [
    "### Ejercicio 2: Creación de un ciclo \"for\""
   ]
  },
  {
   "cell_type": "code",
   "execution_count": null,
   "metadata": {},
   "outputs": [],
   "source": [
    "# Escribe tu ciclo for para iterar en una lista de planetas\n",
    "\n",
    "for planet in planets:\n",
    "    print(planet)\n",
    "    "
   ]
  }
 ],
 "metadata": {
  "interpreter": {
   "hash": "1edaa59eee8033bb34e34b1013d93c361eb58cd5ca155f82699a2cb12ee4a466"
  },
  "kernelspec": {
   "display_name": "Python 3.10.2 64-bit (windows store)",
   "language": "python",
   "name": "python3"
  },
  "language_info": {
   "codemirror_mode": {
    "name": "ipython",
    "version": 3
   },
   "file_extension": ".py",
   "mimetype": "text/x-python",
   "name": "python",
   "nbconvert_exporter": "python",
   "pygments_lexer": "ipython3",
   "version": "3.10.2"
  },
  "orig_nbformat": 4
 },
 "nbformat": 4,
 "nbformat_minor": 2
}
