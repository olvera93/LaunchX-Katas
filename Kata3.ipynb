{
 "cells": [
  {
   "cell_type": "markdown",
   "metadata": {},
   "source": [
    "# Kata 3"
   ]
  },
  {
   "cell_type": "markdown",
   "metadata": {},
   "source": [
    "## Problema 1"
   ]
  },
  {
   "cell_type": "code",
   "execution_count": 2,
   "metadata": {},
   "outputs": [
    {
     "name": "stdout",
     "output_type": "stream",
     "text": [
      "El asteroide es muy grande a una velocidad de: 49\n"
     ]
    }
   ],
   "source": [
    "# Añadir el código necesario para crear una variable que guarde la velocidad del asteroide.\n",
    "# Escribe una expresión de prueba para calcular si necesita una advertencia.\n",
    "# Agregue las instrucciones que se ejecutarán si la expresión de prueba es true o false.\n",
    "\n",
    "asteroide = 49\n",
    "\n",
    "if asteroide >= 25:\n",
    "    print(\"El asteroide es muy grande a una velocidad de:\", asteroide)\n",
    "else: \n",
    "    print(\"El asteroide es pequeño a una velocidad de:\", asteroide)"
   ]
  },
  {
   "cell_type": "markdown",
   "metadata": {},
   "source": [
    "## Problema 2"
   ]
  },
  {
   "cell_type": "code",
   "execution_count": 1,
   "metadata": {},
   "outputs": [
    {
     "name": "stdout",
     "output_type": "stream",
     "text": [
      "El asteroide es muy grande a una velocidad de: 49\n"
     ]
    }
   ],
   "source": [
    "# Añadir el código necesario para crear una variable que guarde la velocidad del asteroide.\n",
    "# Escribe una expresión de prueba para calcular si necesita una advertencia.\n",
    "# Agregue las instrucciones que se ejecutarán si la expresión de prueba es true o false.\n",
    "\n",
    "asteroide = 49\n",
    "\n",
    "if asteroide >= 20:\n",
    "    print(\"El asteroide es muy grande a una velocidad de:\", asteroide)\n",
    "elif asteroide == 20:\n",
    "    print(\"El asteroide es grande a una velocidad de:\", asteroide)\n",
    "else: \n",
    "    print(\"El asteroide es pequeño a una velocidad de:\", asteroide)"
   ]
  },
  {
   "cell_type": "markdown",
   "metadata": {},
   "source": [
    "# Problema 3"
   ]
  },
  {
   "cell_type": "code",
   "execution_count": 5,
   "metadata": {},
   "outputs": [
    {
     "name": "stdout",
     "output_type": "stream",
     "text": [
      "Hay un asteroide muy grande acercandose a la tierra\n"
     ]
    }
   ],
   "source": [
    "velocidad_asteroide = 25\n",
    "tamanio_asteroide = 40\n",
    "\n",
    "if velocidad_asteroide > 25 and tamanio_asteroide > 25:\n",
    "    print(\"Hay un asteroide grande acercandose a la tierra\")\n",
    "elif velocidad_asteroide >= 20 or tamanio_asteroide >= 30:\n",
    "    print(\"Hay un asteroide muy grande acercandose a la tierra\")\n",
    "else:\n",
    "    print(\"El cielo está limpio\")"
   ]
  }
 ],
 "metadata": {
  "interpreter": {
   "hash": "669f5abd92f1a410df15b0643b9f42360e277a412fc08ae8bc7d7911cf7e8f3d"
  },
  "kernelspec": {
   "display_name": "Python 3.10.2 64-bit",
   "language": "python",
   "name": "python3"
  },
  "language_info": {
   "codemirror_mode": {
    "name": "ipython",
    "version": 3
   },
   "file_extension": ".py",
   "mimetype": "text/x-python",
   "name": "python",
   "nbconvert_exporter": "python",
   "pygments_lexer": "ipython3",
   "version": "3.10.2"
  },
  "orig_nbformat": 4
 },
 "nbformat": 4,
 "nbformat_minor": 2
}
