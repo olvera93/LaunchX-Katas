{
 "cells": [
  {
   "cell_type": "markdown",
   "metadata": {},
   "source": [
    "# Kata 9"
   ]
  },
  {
   "cell_type": "markdown",
   "metadata": {},
   "source": [
    "### Ejercicio 1: Trabajar con argumentos en funciones"
   ]
  },
  {
   "cell_type": "code",
   "execution_count": 1,
   "metadata": {},
   "outputs": [],
   "source": [
    "# Función para leer 3 tanques de combustible y muestre el promedio\n",
    "\n",
    "def generate_report(main_tank, external_tank, hydrogen_tank):\n",
    "    total_average = (main_tank + external_tank + hydrogen_tank) / 3\n",
    "    return f\"\"\"Fuel Report:\n",
    "    Total Average: {total_average}%\n",
    "    Main tank: {main_tank}%\n",
    "    External tank: {external_tank}%\n",
    "    Hydrogen tank: {hydrogen_tank}% \n",
    "    \"\"\""
   ]
  },
  {
   "cell_type": "code",
   "execution_count": 2,
   "metadata": {},
   "outputs": [
    {
     "name": "stdout",
     "output_type": "stream",
     "text": [
      "Fuel Report:\n",
      "    Total Average: 20.0%\n",
      "    Main tank: 10%\n",
      "    External tank: 20%\n",
      "    Hydrogen tank: 30% \n",
      "    \n"
     ]
    }
   ],
   "source": [
    "# Llamamos a la función que genera el reporte print(funcion(tanque1, tanque2, tanque3))\n",
    "\n",
    "print(generate_report(10, 20, 30))"
   ]
  },
  {
   "cell_type": "code",
   "execution_count": 4,
   "metadata": {},
   "outputs": [
    {
     "data": {
      "text/plain": [
       "92.0"
      ]
     },
     "execution_count": 4,
     "metadata": {},
     "output_type": "execute_result"
    }
   ],
   "source": [
    "# Función promedio\n",
    "\n",
    "def average(values):\n",
    "    return sum(values) / len(values)\n",
    "\n",
    "average([90, 95, 91])"
   ]
  },
  {
   "cell_type": "code",
   "execution_count": 5,
   "metadata": {},
   "outputs": [
    {
     "name": "stdout",
     "output_type": "stream",
     "text": [
      "Fuel Report:\n",
      "    Total Average: 53.333333333333336%\n",
      "    Main tank: 90%\n",
      "    External tank: 20%\n",
      "    Hydrogen tank: 50% \n",
      "    \n"
     ]
    }
   ],
   "source": [
    "# Actualiza la función\n",
    "\n",
    "def generate_report(main_tank, external_tank, hydrogen_tank):\n",
    "    total_average = average([main_tank, external_tank, hydrogen_tank])\n",
    "    return f\"\"\"Fuel Report:\n",
    "    Total Average: {total_average}%\n",
    "    Main tank: {main_tank}%\n",
    "    External tank: {external_tank}%\n",
    "    Hydrogen tank: {hydrogen_tank}% \n",
    "    \"\"\"\n",
    "\n",
    "print(generate_report(90, 20, 50))"
   ]
  },
  {
   "cell_type": "markdown",
   "metadata": {},
   "source": [
    "### Ejercicio 2: Trabajo con argumentos de palabra clave"
   ]
  },
  {
   "cell_type": "code",
   "execution_count": 7,
   "metadata": {},
   "outputs": [
    {
     "name": "stdout",
     "output_type": "stream",
     "text": [
      "Mission Report:\n",
      "    Launch Time: 10:00\n",
      "    Flight Time: 1 hour\n",
      "    Destination: Mars\n",
      "    External Tank: 20000\n",
      "    Main Tank: 80000\n",
      "    \n"
     ]
    }
   ],
   "source": [
    "# Función con un informe preciso de la misión. Considera hora de prelanzamiento, tiempo de vuelo, destino, tanque externo y tanque interno\n",
    "\n",
    "def mission_report(launch_time, flight_time, destination, external_tank, main_tank):\n",
    "    return f\"\"\"Mission Report:\n",
    "    Launch Time: {launch_time}\n",
    "    Flight Time: {flight_time}\n",
    "    Destination: {destination}\n",
    "    External Tank: {external_tank}\n",
    "    Main Tank: {main_tank}\n",
    "    \"\"\"\n",
    "\n",
    "print(mission_report(\"10:00\", \"1 hour\", \"Mars\", 20000, 80000))"
   ]
  },
  {
   "cell_type": "code",
   "execution_count": 8,
   "metadata": {},
   "outputs": [
    {
     "name": "stdout",
     "output_type": "stream",
     "text": [
      "Mission Report:\n",
      "    Destination: Mars\n",
      "    Total Flight Time: 50 minutes\n",
      "    Fuel Reservoirs: (sum of all tanks) 100000\n",
      "    \n"
     ]
    }
   ],
   "source": [
    "# Escribe tu nueva función de reporte considerando lo anterior\n",
    "\n",
    "def mission_report(destination, *minutes, **fuel_reservoirs):\n",
    "    return f\"\"\"Mission Report:\n",
    "    Destination: {destination}\n",
    "    Total Flight Time: {sum(minutes)} minutes\n",
    "    Fuel Reservoirs: (sum of all tanks) {sum(fuel_reservoirs.values())}\n",
    "    \"\"\"\n",
    "\n",
    "print(mission_report(\"Mars\", 20, 30, external_tank=20000, main_tank=80000))    "
   ]
  },
  {
   "cell_type": "code",
   "execution_count": 9,
   "metadata": {},
   "outputs": [
    {
     "name": "stdout",
     "output_type": "stream",
     "text": [
      "Mission Report:\n",
      "    Destination: Mars\n",
      "    Total Flight Time: 50 minutes\n",
      "    Fuel Reservoirs: (sum of all tanks) 100000\n",
      "    external_tank tank -->: 20000 gallons\n",
      "main_tank tank -->: 80000 gallons\n",
      "\n"
     ]
    }
   ],
   "source": [
    "# Escribe tu nueva función\n",
    "\n",
    "def mission_report(destination, *minutes, **fuel_reservoirs):\n",
    "    main_report = f\"\"\"Mission Report:\n",
    "    Destination: {destination}\n",
    "    Total Flight Time: {sum(minutes)} minutes\n",
    "    Fuel Reservoirs: (sum of all tanks) {sum(fuel_reservoirs.values())}\n",
    "    \"\"\"\n",
    "    for tank, gallons in fuel_reservoirs.items():\n",
    "        main_report += f\"{tank} tank -->: {gallons} gallons\\n\"\n",
    "    return main_report\n",
    "\n",
    "print(mission_report(\"Mars\", 20, 30, external_tank=20000, main_tank=80000))\n",
    "\n"
   ]
  }
 ],
 "metadata": {
  "interpreter": {
   "hash": "1edaa59eee8033bb34e34b1013d93c361eb58cd5ca155f82699a2cb12ee4a466"
  },
  "kernelspec": {
   "display_name": "Python 3.10.2 64-bit (windows store)",
   "language": "python",
   "name": "python3"
  },
  "language_info": {
   "codemirror_mode": {
    "name": "ipython",
    "version": 3
   },
   "file_extension": ".py",
   "mimetype": "text/x-python",
   "name": "python",
   "nbconvert_exporter": "python",
   "pygments_lexer": "ipython3",
   "version": "3.10.2"
  },
  "orig_nbformat": 4
 },
 "nbformat": 4,
 "nbformat_minor": 2
}
